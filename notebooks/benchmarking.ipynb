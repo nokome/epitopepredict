{
 "cells": [
  {
   "cell_type": "markdown",
   "metadata": {},
   "source": [
    "# Benchmarking predictors\n",
    "\n",
    "Compares three prediction tools fot MHC-I"
   ]
  },
  {
   "cell_type": "code",
   "execution_count": 1,
   "metadata": {},
   "outputs": [],
   "source": [
    "import os, sys, math\n",
    "import numpy as np\n",
    "import pandas as pd\n",
    "pd.set_option('display.width', 130)\n",
    "%matplotlib inline\n",
    "import matplotlib as mpl\n",
    "import matplotlib.pyplot as plt\n",
    "import seaborn as sns\n",
    "sns.set_context(\"notebook\", font_scale=1.4)\n",
    "import epitopepredict as ep\n",
    "from epitopepredict import sequtils, base, peptutils, mhclearn\n",
    "from IPython.display import display, HTML, Image\n",
    "from importlib import reload"
   ]
  },
  {
   "cell_type": "code",
   "execution_count": null,
   "metadata": {},
   "outputs": [],
   "source": [
    "def evaluate_predictor(P, allele):\n",
    "\n",
    "    data = mhclearn.get_evaluation_set1(allele, length=9)\n",
    "    print (len(data))\n",
    "    if len(data) < 200:\n",
    "        return None,None,None\n",
    "    P.predict_peptides(list(data.peptide), alleles=allele, cpus=14)\n",
    "    x = P.get_scores(allele)\n",
    "    #x = P.data\n",
    "    x = data.merge(x,on='peptide') \n",
    "    #print (x[:4])\n",
    "    #x.plot(x='ic50',y='score',kind='scatter',s=20,)\n",
    "    #auc = auc_score(x.log50k_x,x.log50k_y,cutoff=.426)\n",
    "    auc = round(ep.auc_score(x.ic50,x.score,cutoff=500),3)\n",
    "    import scipy\n",
    "    pr = scipy.stats.pearsonr(x.ic50, x.score)[0]\n",
    "    return auc, pr, data\n",
    "\n",
    "reload(base)\n",
    "reload(mhclearn)\n",
    "\n",
    "def run_tests():\n",
    "    preds = [base.get_predictor('basicmhc1'),\n",
    "             base.get_predictor('netmhcpan',scoring='affinity'),\n",
    "             ep.get_predictor('mhcflurry')]\n",
    "    comp=[]\n",
    "    test_alleles = mhclearn.get_allele_names()#[:20]\n",
    "    print (len(test_alleles))\n",
    "    for P in preds:\n",
    "        m=[]\n",
    "        for a in test_alleles:\n",
    "            print (a)\n",
    "            if not a.startswith('HLA'): continue\n",
    "            try:\n",
    "                auc,pr,df = evaluate_predictor(P, a)\n",
    "                if auc==None:\n",
    "                    continue\n",
    "                m.append((a,auc,pr,len(df)))            \n",
    "            except Exception as e:\n",
    "                print (a,e)\n",
    "                pass\n",
    "            print (P, auc, pr)\n",
    "        m=pd.DataFrame(m,columns=['allele','auc','pearson r','size'])\n",
    "        m['name'] = P.name\n",
    "        comp.append(m)\n",
    "    return comp\n",
    "\n",
    "comp = run_tests()  "
   ]
  },
  {
   "cell_type": "code",
   "execution_count": 3,
   "metadata": {},
   "outputs": [
    {
     "name": "stdout",
     "output_type": "stream",
     "text": [
      "123\n"
     ]
    }
   ],
   "source": [
    "c=pd.concat(comp)\n",
    "c.to_csv('benchmarks.csv')\n",
    "print (len(c))"
   ]
  },
  {
   "cell_type": "code",
   "execution_count": 4,
   "metadata": {},
   "outputs": [
    {
     "name": "stdout",
     "output_type": "stream",
     "text": [
      "40\n"
     ]
    },
    {
     "data": {
      "image/png": "[encoded data removed]",
      "text/plain": [
       "<Figure size 1080x432 with 2 Axes>"
      ]
     },
     "metadata": {
      "needs_background": "light"
     },
     "output_type": "display_data"
    }
   ],
   "source": [
    "c = pd.read_csv('benchmarks.csv')\n",
    "a=pd.pivot_table(c,index=['allele','size'],columns='name',values='auc')\n",
    "r=pd.pivot_table(c,index=['allele','size'],columns='name',values='pearson r')\n",
    "print (len(a))\n",
    "def highlight_max(s):\n",
    "    is_max = s == s.max()\n",
    "    return ['background-color: yellow' if v else '' for v in is_max]\n",
    "\n",
    "fig = plt.figure(constrained_layout=True,figsize=(15,6))\n",
    "gs = fig.add_gridspec(1, 2, hspace=1)\n",
    "ax = fig.add_subplot(gs[0])\n",
    "#x.plot(x='basicmhc1',y='netmhcpan',kind='scatter',s=50,c='orange',ax=ax)\n",
    "#x.plot(x='basicmhc1',y='mhcflurry',kind='scatter',s=50,c='green',ax=ax)\n",
    "#ax.plot((0,1), (0,1), ls=\"--\", lw=2, c=\".2\")\n",
    "#ax.set_xlim(.76,.94);ax.set_ylim(.76,.94)\n",
    "sns.barplot(data=c,y='pearson r',x='name',ax=ax)\n",
    "ax.set_title('pearson r')\n",
    "\n",
    "ax = fig.add_subplot(gs[1])\n",
    "sns.boxplot(data=c,y='auc',x='name',ax=ax)\n",
    "#ax = fig.add_subplot(gs[2:])\n",
    "#g=sns.barplot(data=c,y='score',x='allele',hue='name', ax=ax)\n",
    "#plt.legend(bbox_to_anchor=(1.1, 1.05),fontsize=16)\n",
    "#plt.setp(ax.get_xticklabels(), rotation=90)\n",
    "#plt.tight_layout()\n",
    "ax.set_title('AUC')\n",
    "plt.savefig('basicmhc1_benchmarks.jpg', dpi=150)\n"
   ]
  },
  {
   "cell_type": "code",
   "execution_count": null,
   "metadata": {},
   "outputs": [],
   "source": []
  }
 ],
 "metadata": {
  "kernelspec": {
   "display_name": "Python 3",
   "language": "python",
   "name": "python3"
  },
  "language_info": {
   "codemirror_mode": {
    "name": "ipython",
    "version": 3
   },
   "file_extension": ".py",
   "mimetype": "text/x-python",
   "name": "python",
   "nbconvert_exporter": "python",
   "pygments_lexer": "ipython3",
   "version": "3.8.6"
  }
 },
 "nbformat": 4,
 "nbformat_minor": 4
}
